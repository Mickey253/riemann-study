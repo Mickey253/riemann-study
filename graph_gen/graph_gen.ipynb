{
 "cells": [
  {
   "cell_type": "code",
   "execution_count": 1,
   "metadata": {},
   "outputs": [],
   "source": [
    "import graph_tool.all as gt\n",
    "import numpy as np"
   ]
  },
  {
   "cell_type": "code",
   "execution_count": null,
   "metadata": {},
   "outputs": [],
   "source": [
    "def load_graph_from_txt(fname):\n",
    "    with open(fname, \"r\") as fdata:\n",
    "        edgelist = [[int(v) for v in e.split(\",\")] for e in fdata.readlines()]\n",
    "    G = gt.Graph()\n",
    "    G.add_edge_list(np.array(edgelist))\n",
    "    return G"
   ]
  },
  {
   "cell_type": "code",
   "execution_count": null,
   "metadata": {},
   "outputs": [],
   "source": [
    "E_group = [load_graph_from_txt(\"graphs/dwt_72.txt\"), load_graph_from_txt(\"graphs/grid17.txt\"), gt.lattice((10,10))]\n",
    "S_group = [load_graph_from_txt(\"graphs/dodecahedron_4.txt\"), load_graph_from_txt(\"graphs/block_400.txt\"), load_graph_from_txt(\"graphs/sierpinski3d.txt\")]"
   ]
  }
 ],
 "metadata": {
  "kernelspec": {
   "display_name": "gt",
   "language": "python",
   "name": "python3"
  },
  "language_info": {
   "codemirror_mode": {
    "name": "ipython",
    "version": 3
   },
   "file_extension": ".py",
   "mimetype": "text/x-python",
   "name": "python",
   "nbconvert_exporter": "python",
   "pygments_lexer": "ipython3",
   "version": "3.10.4"
  },
  "orig_nbformat": 4
 },
 "nbformat": 4,
 "nbformat_minor": 2
}
