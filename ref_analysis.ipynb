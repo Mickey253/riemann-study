{
 "cells": [
  {
   "cell_type": "code",
   "execution_count": 32,
   "metadata": {},
   "outputs": [],
   "source": [
    "import json \n"
   ]
  },
  {
   "cell_type": "code",
   "execution_count": 33,
   "metadata": {},
   "outputs": [],
   "source": [
    "with open(\"refs.json\", \"r\") as fdata:\n",
    "    refs = json.load(fdata)"
   ]
  },
  {
   "cell_type": "code",
   "execution_count": 34,
   "metadata": {},
   "outputs": [],
   "source": [
    "for paper in refs:\n",
    "    paper[\"sections\"] = [s.lower() for s in paper[\"sections\"]]\n",
    "    if \"id\" not in paper: \n",
    "        paper[\"id\"] = \"DBLP:\" + \"/\".join(paper[\"url\"].split(\"/\")[4:])"
   ]
  },
  {
   "cell_type": "code",
   "execution_count": 35,
   "metadata": {},
   "outputs": [],
   "source": [
    "geo_cat = {\n",
    "    \"spherical\": 0, \n",
    "    \"hyperbolic\": 0,\n",
    "    \"torus\": 0,\n",
    "    \"other\": 0\n",
    "}"
   ]
  },
  {
   "cell_type": "code",
   "execution_count": 36,
   "metadata": {},
   "outputs": [],
   "source": [
    "for paper in refs:\n",
    "    if \"spherical\" in paper[\"sections\"]: geo_cat[\"spherical\"] += 1\n",
    "    if \"hyperbolic\" in paper[\"sections\"]: geo_cat[\"hyperbolic\"] += 1\n",
    "    if \"torus\" in paper[\"sections\"]: geo_cat[\"torus\"] += 1 \n",
    "    if \"lens\" in paper[\"sections\"]: geo_cat[\"other\"] += 1"
   ]
  },
  {
   "cell_type": "code",
   "execution_count": 37,
   "metadata": {},
   "outputs": [
    {
     "data": {
      "text/plain": [
       "{'spherical': 17, 'hyperbolic': 26, 'torus': 4, 'other': 3}"
      ]
     },
     "execution_count": 37,
     "metadata": {},
     "output_type": "execute_result"
    }
   ],
   "source": [
    "geo_cat"
   ]
  },
  {
   "cell_type": "code",
   "execution_count": 38,
   "metadata": {},
   "outputs": [
    {
     "name": "stdout",
     "output_type": "stream",
     "text": [
      "    spherical & 17 \\\\ \\hline\n",
      "    hyperbolic & 26 \\\\ \\hline\n",
      "    torus & 4 \\\\ \\hline\n",
      "    other & 3 \\\\ \\hline\n"
     ]
    }
   ],
   "source": [
    "for geo, num in geo_cat.items():\n",
    "    print(f\"    {geo} & {num} \\\\\\\\ \\\\hline\")"
   ]
  },
  {
   "cell_type": "code",
   "execution_count": 39,
   "metadata": {},
   "outputs": [],
   "source": [
    "type_cat = {\n",
    "    \"technique\": 0, \n",
    "    \"user study\": 0,\n",
    "    \"theory\": 0,\n",
    "    \"application\": 0\n",
    "}"
   ]
  },
  {
   "cell_type": "code",
   "execution_count": 40,
   "metadata": {},
   "outputs": [],
   "source": [
    "for paper in refs:\n",
    "    if \"technique\" in paper[\"sections\"]: type_cat[\"technique\"] += 1\n",
    "    if \"user study\" in paper[\"sections\"]: type_cat[\"user study\"] += 1\n",
    "    if \"theory\" in paper[\"sections\"]: type_cat[\"theory\"] += 1 \n",
    "    if \"application\" in paper[\"sections\"]: type_cat[\"application\"] += 1"
   ]
  },
  {
   "cell_type": "code",
   "execution_count": 41,
   "metadata": {},
   "outputs": [
    {
     "data": {
      "text/plain": [
       "{'technique': 9, 'user study': 2, 'theory': 12, 'application': 23}"
      ]
     },
     "execution_count": 41,
     "metadata": {},
     "output_type": "execute_result"
    }
   ],
   "source": [
    "type_cat"
   ]
  },
  {
   "cell_type": "code",
   "execution_count": 42,
   "metadata": {},
   "outputs": [
    {
     "name": "stdout",
     "output_type": "stream",
     "text": [
      "    technique & 9 \\\\ \\hline\n",
      "    user study & 2 \\\\ \\hline\n",
      "    theory & 12 \\\\ \\hline\n",
      "    application & 23 \\\\ \\hline\n"
     ]
    }
   ],
   "source": [
    "for typ, num in type_cat.items():\n",
    "    print(f\"    {typ} & {num} \\\\\\\\ \\\\hline\")"
   ]
  },
  {
   "cell_type": "code",
   "execution_count": 48,
   "metadata": {},
   "outputs": [],
   "source": [
    "def cite_all_section(section):\n",
    "    for paper in refs:\n",
    "        if section in paper[\"sections\"]:\n",
    "            print(f\"~\\\\cite{{{paper['id']}}}\")"
   ]
  },
  {
   "cell_type": "code",
   "execution_count": 56,
   "metadata": {},
   "outputs": [
    {
     "name": "stdout",
     "output_type": "stream",
     "text": [
      "~\\cite{hyperbolic-canvas}\n",
      "~\\cite{clough2018}\n",
      "~\\cite{walter2003interactive}\n",
      "~\\cite{zhou2021hyperbolic}\n",
      "~\\cite{placesandspaces}\n",
      "~\\cite{worldprocessor}\n",
      "~\\cite{munzner2000interactive}\n",
      "~\\cite{lamping1996the}\n",
      "~\\cite{jit}\n",
      "~\\cite{treebolic}\n",
      "~\\cite{hyperbolicTOL}\n",
      "~\\cite{Michael2018survey}\n",
      "~\\cite{d3-hypertree}\n",
      "~\\cite{walrus2000}\n",
      "~\\cite{h3py}\n",
      "~\\cite{borner2012}\n",
      "~\\cite{gross1997visualizing}\n",
      "~\\cite{wu2006visualizing}\n",
      "~\\cite{DBLP:journals/corr/abs-2202-13852}\n",
      "~\\cite{DBLP:conf/comsnets/Sathiyanarayanan16a}\n",
      "~\\cite{DBLP:journals/cg/OuyangCCZ12}\n",
      "~\\cite{DBLP:conf/www/SaitoKOM12}\n",
      "~\\cite{DBLP:journals/cg/SangoleK03}\n"
     ]
    }
   ],
   "source": [
    "cite_all_section(\"application\")"
   ]
  },
  {
   "cell_type": "code",
   "execution_count": null,
   "metadata": {},
   "outputs": [],
   "source": [
    "with open(\"refs.json\", \"w\") as fdata:\n",
    "    json.dump(refs, fdata, indent=4)"
   ]
  }
 ],
 "metadata": {
  "kernelspec": {
   "display_name": "gt",
   "language": "python",
   "name": "python3"
  },
  "language_info": {
   "codemirror_mode": {
    "name": "ipython",
    "version": 3
   },
   "file_extension": ".py",
   "mimetype": "text/x-python",
   "name": "python",
   "nbconvert_exporter": "python",
   "pygments_lexer": "ipython3",
   "version": "3.10.4"
  }
 },
 "nbformat": 4,
 "nbformat_minor": 2
}
